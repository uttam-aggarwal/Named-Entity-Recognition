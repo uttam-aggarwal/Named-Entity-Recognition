{
  "nbformat": 4,
  "nbformat_minor": 0,
  "metadata": {
    "colab": {
      "provenance": [],
      "gpuType": "T4"
    },
    "kernelspec": {
      "name": "python3",
      "display_name": "Python 3"
    },
    "language_info": {
      "name": "python"
    },
    "accelerator": "GPU"
  },
  "cells": [
    {
      "cell_type": "code",
      "source": [
        "import pandas as pd\n",
        "\n",
        "# Function to load and preprocess the data\n",
        "def load_data(file_path):\n",
        "    sentences = []\n",
        "    sentence = []\n",
        "\n",
        "    with open(file_path, 'r') as f:\n",
        "        for line in f:\n",
        "            line = line.strip()\n",
        "            if line and not line.startswith(\"-DOCSTART-\"):  # Skip empty lines and '-DOCSTART-'\n",
        "                parts = line.split()\n",
        "                if len(parts) == 4:  # Ensure there are exactly four columns\n",
        "                    word, tag = parts[0], parts[3]  # Select the word and the tag\n",
        "                    sentence.append((word, tag))\n",
        "                else:\n",
        "                    print(f\"Skipping line due to unexpected format: {line}\")\n",
        "            else:\n",
        "                if sentence:  # Add the sentence if it's not empty\n",
        "                    sentences.append(sentence)\n",
        "                sentence = []\n",
        "\n",
        "    if sentence:  # Append the last sentence if needed\n",
        "        sentences.append(sentence)\n",
        "\n",
        "    return sentences\n",
        "\n",
        "# Load train, test, and validation data\n",
        "train_data = load_data('train.txt')\n",
        "test_data = load_data('test.txt')\n",
        "valid_data = load_data('valid.txt')\n",
        "\n",
        "# Display the structure of a sample sentence\n",
        "print(\"Sample sentence:\", train_data[0])\n",
        "print(\"Number of sentences in train data:\", len(train_data))\n",
        "\n",
        "\n",
        "# Load train, test, and validation data\n",
        "train_data = load_data('train.txt')\n",
        "test_data = load_data('test.txt')\n",
        "valid_data = load_data('valid.txt')\n",
        "\n",
        "# Display the structure of a sample sentence\n",
        "print(\"Sample sentence:\", train_data[0])\n",
        "print(\"Number of sentences in train data:\", len(train_data))"
      ],
      "metadata": {
        "colab": {
          "base_uri": "https://localhost:8080/"
        },
        "id": "sTsYg9MXwR7l",
        "outputId": "15bde158-e0d4-4b6c-bfa9-39d215222a32"
      },
      "execution_count": null,
      "outputs": [
        {
          "output_type": "stream",
          "name": "stdout",
          "text": [
            "Sample sentence: [('EU', 'B-ORG'), ('rejects', 'O'), ('German', 'B-MISC'), ('call', 'O'), ('to', 'O'), ('boycott', 'O'), ('British', 'B-MISC'), ('lamb', 'O'), ('.', 'O')]\n",
            "Number of sentences in train data: 14041\n",
            "Sample sentence: [('EU', 'B-ORG'), ('rejects', 'O'), ('German', 'B-MISC'), ('call', 'O'), ('to', 'O'), ('boycott', 'O'), ('British', 'B-MISC'), ('lamb', 'O'), ('.', 'O')]\n",
            "Number of sentences in train data: 14041\n"
          ]
        }
      ]
    },
    {
      "cell_type": "code",
      "source": [
        "# Check the structure of the file\n",
        "with open('train.txt', 'r') as f:\n",
        "    for _ in range(10):  # Print first 10 lines\n",
        "        print(f.readline().strip())\n"
      ],
      "metadata": {
        "colab": {
          "base_uri": "https://localhost:8080/"
        },
        "id": "SD0xV4lrw_Kr",
        "outputId": "e95e78a6-1a9d-4791-84bf-0bf7eda7f109"
      },
      "execution_count": null,
      "outputs": [
        {
          "output_type": "stream",
          "name": "stdout",
          "text": [
            "-DOCSTART- -X- -X- O\n",
            "\n",
            "EU NNP B-NP B-ORG\n",
            "rejects VBZ B-VP O\n",
            "German JJ B-NP B-MISC\n",
            "call NN I-NP O\n",
            "to TO B-VP O\n",
            "boycott VB I-VP O\n",
            "British JJ B-NP B-MISC\n",
            "lamb NN I-NP O\n"
          ]
        }
      ]
    },
    {
      "cell_type": "code",
      "source": [
        "from tensorflow.keras.preprocessing.text import Tokenizer\n",
        "from tensorflow.keras.preprocessing.sequence import pad_sequences\n",
        "\n",
        "# Prepare sentences and tags for tokenization\n",
        "train_sentences = [[word for word, tag in sentence] for sentence in train_data]\n",
        "train_tags = [[tag for word, tag in sentence] for sentence in train_data]\n",
        "\n",
        "# Initialize tokenizers\n",
        "word_tokenizer = Tokenizer(lower=True)\n",
        "tag_tokenizer = Tokenizer(lower=False, filters='')\n",
        "\n",
        "# Fit the tokenizers on the training data\n",
        "word_tokenizer.fit_on_texts(train_sentences)\n",
        "tag_tokenizer.fit_on_texts(train_tags)\n",
        "\n",
        "# Convert words and tags to sequences of integers\n",
        "train_sequences = word_tokenizer.texts_to_sequences(train_sentences)\n",
        "train_tag_sequences = tag_tokenizer.texts_to_sequences(train_tags)\n",
        "\n",
        "# Pad the sequences so that all sentences are of equal length\n",
        "MAX_LENGTH = max(len(seq) for seq in train_sequences)\n",
        "train_padded = pad_sequences(train_sequences, maxlen=MAX_LENGTH, padding='post')\n",
        "train_tag_padded = pad_sequences(train_tag_sequences, maxlen=MAX_LENGTH, padding='post')\n",
        "\n",
        "# Check results\n",
        "print(\"Sample padded sentence:\", train_padded[0])\n",
        "print(\"Sample padded tags:\", train_tag_padded[0])\n",
        "print(\"Max sentence length:\", MAX_LENGTH)\n",
        "print(\"Vocabulary size:\", len(word_tokenizer.word_index))\n",
        "print(\"Number of unique tags:\", len(tag_tokenizer.word_index))\n"
      ],
      "metadata": {
        "colab": {
          "base_uri": "https://localhost:8080/"
        },
        "id": "c35yxCXdw_z5",
        "outputId": "dbdbbe09-c734-4706-9e89-675dea86bebb"
      },
      "execution_count": null,
      "outputs": [
        {
          "output_type": "stream",
          "name": "stdout",
          "text": [
            "Sample padded sentence: [  988 10950   204   628     6  3938   215  5773     2     0     0     0\n",
            "     0     0     0     0     0     0     0     0     0     0     0     0\n",
            "     0     0     0     0     0     0     0     0     0     0     0     0\n",
            "     0     0     0     0     0     0     0     0     0     0     0     0\n",
            "     0     0     0     0     0     0     0     0     0     0     0     0\n",
            "     0     0     0     0     0     0     0     0     0     0     0     0\n",
            "     0     0     0     0     0     0     0     0     0     0     0     0\n",
            "     0     0     0     0     0     0     0     0     0     0     0     0\n",
            "     0     0     0     0     0     0     0     0     0     0     0     0\n",
            "     0     0     0     0     0]\n",
            "Sample padded tags: [4 1 7 1 1 1 7 1 1 0 0 0 0 0 0 0 0 0 0 0 0 0 0 0 0 0 0 0 0 0 0 0 0 0 0 0 0\n",
            " 0 0 0 0 0 0 0 0 0 0 0 0 0 0 0 0 0 0 0 0 0 0 0 0 0 0 0 0 0 0 0 0 0 0 0 0 0\n",
            " 0 0 0 0 0 0 0 0 0 0 0 0 0 0 0 0 0 0 0 0 0 0 0 0 0 0 0 0 0 0 0 0 0 0 0 0 0\n",
            " 0 0]\n",
            "Max sentence length: 113\n",
            "Vocabulary size: 21009\n",
            "Number of unique tags: 9\n"
          ]
        }
      ]
    },
    {
      "cell_type": "code",
      "source": [
        "# Step 1: Download and unzip GloVe manually\n",
        "!wget http://nlp.stanford.edu/data/glove.6B.zip\n",
        "!unzip -q glove.6B.zip -d .\n",
        "\n",
        "# Step 2: Load the 100D GloVe embeddings\n",
        "import numpy as np\n",
        "import os\n",
        "\n",
        "# Define the path to the GloVe file for 100-dimensional vectors\n",
        "glove_path = 'glove.6B.100d.txt'\n",
        "\n",
        "# Set embedding dimensions\n",
        "EMBEDDING_DIM = 100\n",
        "embedding_matrix = np.zeros((len(word_tokenizer.word_index) + 1, EMBEDDING_DIM))\n",
        "\n",
        "# Load GloVe vectors into a dictionary\n",
        "embeddings_index = {}\n",
        "with open(glove_path, 'r', encoding='utf-8') as f:\n",
        "    for line in f:\n",
        "        values = line.split()\n",
        "        word = values[0]\n",
        "        coeffs = np.asarray(values[1:], dtype='float32')\n",
        "        embeddings_index[word] = coeffs\n",
        "\n",
        "# Create the embedding matrix\n",
        "for word, i in word_tokenizer.word_index.items():\n",
        "    embedding_vector = embeddings_index.get(word)\n",
        "    if embedding_vector is not None:\n",
        "        embedding_matrix[i] = embedding_vector\n",
        "\n",
        "print(\"Embedding matrix shape:\", embedding_matrix.shape)\n"
      ],
      "metadata": {
        "colab": {
          "base_uri": "https://localhost:8080/"
        },
        "id": "_-kOULyIyV0R",
        "outputId": "f77140e2-b888-4d26-98ad-17b3b115e815"
      },
      "execution_count": null,
      "outputs": [
        {
          "output_type": "stream",
          "name": "stdout",
          "text": [
            "--2024-10-29 15:03:55--  http://nlp.stanford.edu/data/glove.6B.zip\n",
            "Resolving nlp.stanford.edu (nlp.stanford.edu)... 171.64.67.140\n",
            "Connecting to nlp.stanford.edu (nlp.stanford.edu)|171.64.67.140|:80... connected.\n",
            "HTTP request sent, awaiting response... 302 Found\n",
            "Location: https://nlp.stanford.edu/data/glove.6B.zip [following]\n",
            "--2024-10-29 15:03:56--  https://nlp.stanford.edu/data/glove.6B.zip\n",
            "Connecting to nlp.stanford.edu (nlp.stanford.edu)|171.64.67.140|:443... connected.\n",
            "HTTP request sent, awaiting response... 301 Moved Permanently\n",
            "Location: https://downloads.cs.stanford.edu/nlp/data/glove.6B.zip [following]\n",
            "--2024-10-29 15:03:56--  https://downloads.cs.stanford.edu/nlp/data/glove.6B.zip\n",
            "Resolving downloads.cs.stanford.edu (downloads.cs.stanford.edu)... 171.64.64.22\n",
            "Connecting to downloads.cs.stanford.edu (downloads.cs.stanford.edu)|171.64.64.22|:443... connected.\n",
            "HTTP request sent, awaiting response... 200 OK\n",
            "Length: 862182613 (822M) [application/zip]\n",
            "Saving to: ‘glove.6B.zip’\n",
            "\n",
            "glove.6B.zip        100%[===================>] 822.24M  5.13MB/s    in 2m 42s  \n",
            "\n",
            "2024-10-29 15:06:39 (5.09 MB/s) - ‘glove.6B.zip’ saved [862182613/862182613]\n",
            "\n",
            "Embedding matrix shape: (21010, 100)\n"
          ]
        }
      ]
    },
    {
      "cell_type": "code",
      "source": [
        "from tensorflow.keras.models import Sequential\n",
        "from tensorflow.keras.layers import Embedding, LSTM, Dense, TimeDistributed, Dropout, Bidirectional\n",
        "\n",
        "# Model parameters\n",
        "MAX_LENGTH = 113  # as found from max sentence length earlier\n",
        "VOCAB_SIZE = len(word_tokenizer.word_index) + 1  # 21010\n",
        "TAG_SIZE = len(tag_tokenizer.word_index) + 1  # 9 unique tags\n",
        "\n",
        "# Build the model\n",
        "model = Sequential()\n",
        "model.add(Embedding(input_dim=VOCAB_SIZE, output_dim=EMBEDDING_DIM,\n",
        "                    weights=[embedding_matrix], input_length=MAX_LENGTH, trainable=False))\n",
        "model.add(Bidirectional(LSTM(units=50, return_sequences=True, recurrent_dropout=0.1)))\n",
        "model.add(TimeDistributed(Dense(TAG_SIZE, activation=\"softmax\")))\n",
        "\n",
        "# Compile the model\n",
        "model.compile(optimizer=\"adam\", loss=\"sparse_categorical_crossentropy\", metrics=[\"accuracy\"])\n",
        "\n",
        "# Model summary\n",
        "model.summary()\n"
      ],
      "metadata": {
        "colab": {
          "base_uri": "https://localhost:8080/",
          "height": 280
        },
        "id": "LPD7Q7xCytXa",
        "outputId": "0447d6a2-c3af-4c8c-988e-6a38a23f0b4c"
      },
      "execution_count": null,
      "outputs": [
        {
          "output_type": "stream",
          "name": "stderr",
          "text": [
            "/usr/local/lib/python3.10/dist-packages/keras/src/layers/core/embedding.py:90: UserWarning: Argument `input_length` is deprecated. Just remove it.\n",
            "  warnings.warn(\n"
          ]
        },
        {
          "output_type": "display_data",
          "data": {
            "text/plain": [
              "\u001b[1mModel: \"sequential\"\u001b[0m\n"
            ],
            "text/html": [
              "<pre style=\"white-space:pre;overflow-x:auto;line-height:normal;font-family:Menlo,'DejaVu Sans Mono',consolas,'Courier New',monospace\"><span style=\"font-weight: bold\">Model: \"sequential\"</span>\n",
              "</pre>\n"
            ]
          },
          "metadata": {}
        },
        {
          "output_type": "display_data",
          "data": {
            "text/plain": [
              "┏━━━━━━━━━━━━━━━━━━━━━━━━━━━━━━━━━━━━━━┳━━━━━━━━━━━━━━━━━━━━━━━━━━━━━┳━━━━━━━━━━━━━━━━━┓\n",
              "┃\u001b[1m \u001b[0m\u001b[1mLayer (type)                        \u001b[0m\u001b[1m \u001b[0m┃\u001b[1m \u001b[0m\u001b[1mOutput Shape               \u001b[0m\u001b[1m \u001b[0m┃\u001b[1m \u001b[0m\u001b[1m        Param #\u001b[0m\u001b[1m \u001b[0m┃\n",
              "┡━━━━━━━━━━━━━━━━━━━━━━━━━━━━━━━━━━━━━━╇━━━━━━━━━━━━━━━━━━━━━━━━━━━━━╇━━━━━━━━━━━━━━━━━┩\n",
              "│ embedding (\u001b[38;5;33mEmbedding\u001b[0m)                │ ?                           │       \u001b[38;5;34m2,101,000\u001b[0m │\n",
              "├──────────────────────────────────────┼─────────────────────────────┼─────────────────┤\n",
              "│ bidirectional (\u001b[38;5;33mBidirectional\u001b[0m)        │ ?                           │     \u001b[38;5;34m0\u001b[0m (unbuilt) │\n",
              "├──────────────────────────────────────┼─────────────────────────────┼─────────────────┤\n",
              "│ time_distributed (\u001b[38;5;33mTimeDistributed\u001b[0m)   │ ?                           │     \u001b[38;5;34m0\u001b[0m (unbuilt) │\n",
              "└──────────────────────────────────────┴─────────────────────────────┴─────────────────┘\n"
            ],
            "text/html": [
              "<pre style=\"white-space:pre;overflow-x:auto;line-height:normal;font-family:Menlo,'DejaVu Sans Mono',consolas,'Courier New',monospace\">┏━━━━━━━━━━━━━━━━━━━━━━━━━━━━━━━━━━━━━━┳━━━━━━━━━━━━━━━━━━━━━━━━━━━━━┳━━━━━━━━━━━━━━━━━┓\n",
              "┃<span style=\"font-weight: bold\"> Layer (type)                         </span>┃<span style=\"font-weight: bold\"> Output Shape                </span>┃<span style=\"font-weight: bold\">         Param # </span>┃\n",
              "┡━━━━━━━━━━━━━━━━━━━━━━━━━━━━━━━━━━━━━━╇━━━━━━━━━━━━━━━━━━━━━━━━━━━━━╇━━━━━━━━━━━━━━━━━┩\n",
              "│ embedding (<span style=\"color: #0087ff; text-decoration-color: #0087ff\">Embedding</span>)                │ ?                           │       <span style=\"color: #00af00; text-decoration-color: #00af00\">2,101,000</span> │\n",
              "├──────────────────────────────────────┼─────────────────────────────┼─────────────────┤\n",
              "│ bidirectional (<span style=\"color: #0087ff; text-decoration-color: #0087ff\">Bidirectional</span>)        │ ?                           │     <span style=\"color: #00af00; text-decoration-color: #00af00\">0</span> (unbuilt) │\n",
              "├──────────────────────────────────────┼─────────────────────────────┼─────────────────┤\n",
              "│ time_distributed (<span style=\"color: #0087ff; text-decoration-color: #0087ff\">TimeDistributed</span>)   │ ?                           │     <span style=\"color: #00af00; text-decoration-color: #00af00\">0</span> (unbuilt) │\n",
              "└──────────────────────────────────────┴─────────────────────────────┴─────────────────┘\n",
              "</pre>\n"
            ]
          },
          "metadata": {}
        },
        {
          "output_type": "display_data",
          "data": {
            "text/plain": [
              "\u001b[1m Total params: \u001b[0m\u001b[38;5;34m2,101,000\u001b[0m (8.01 MB)\n"
            ],
            "text/html": [
              "<pre style=\"white-space:pre;overflow-x:auto;line-height:normal;font-family:Menlo,'DejaVu Sans Mono',consolas,'Courier New',monospace\"><span style=\"font-weight: bold\"> Total params: </span><span style=\"color: #00af00; text-decoration-color: #00af00\">2,101,000</span> (8.01 MB)\n",
              "</pre>\n"
            ]
          },
          "metadata": {}
        },
        {
          "output_type": "display_data",
          "data": {
            "text/plain": [
              "\u001b[1m Trainable params: \u001b[0m\u001b[38;5;34m0\u001b[0m (0.00 B)\n"
            ],
            "text/html": [
              "<pre style=\"white-space:pre;overflow-x:auto;line-height:normal;font-family:Menlo,'DejaVu Sans Mono',consolas,'Courier New',monospace\"><span style=\"font-weight: bold\"> Trainable params: </span><span style=\"color: #00af00; text-decoration-color: #00af00\">0</span> (0.00 B)\n",
              "</pre>\n"
            ]
          },
          "metadata": {}
        },
        {
          "output_type": "display_data",
          "data": {
            "text/plain": [
              "\u001b[1m Non-trainable params: \u001b[0m\u001b[38;5;34m2,101,000\u001b[0m (8.01 MB)\n"
            ],
            "text/html": [
              "<pre style=\"white-space:pre;overflow-x:auto;line-height:normal;font-family:Menlo,'DejaVu Sans Mono',consolas,'Courier New',monospace\"><span style=\"font-weight: bold\"> Non-trainable params: </span><span style=\"color: #00af00; text-decoration-color: #00af00\">2,101,000</span> (8.01 MB)\n",
              "</pre>\n"
            ]
          },
          "metadata": {}
        }
      ]
    },
    {
      "cell_type": "code",
      "source": [
        "from collections import Counter\n",
        "\n",
        "# Step 2: Create a list of words for the frequency counter\n",
        "all_words = [word for sentence in train_data for word, tag in sentence]\n",
        "word_freq = Counter(all_words)  # Count frequency of each word\n",
        "\n",
        "# Create a mapping of words to indices\n",
        "word2idx = {word: idx + 1 for idx, (word, _) in enumerate(word_freq.most_common())}  # Start from 1 to leave 0 for padding\n",
        "word2idx['<PAD>'] = 0  # Padding token\n"
      ],
      "metadata": {
        "id": "xXRuto4e0wHc"
      },
      "execution_count": null,
      "outputs": []
    },
    {
      "cell_type": "code",
      "source": [
        "# Create a mapping of tags to indices\n",
        "tag_freq = Counter(tag for sentence in train_data for _, tag in sentence)\n",
        "tag2idx = {tag: idx for idx, (tag, _) in enumerate(tag_freq.most_common())}\n"
      ],
      "metadata": {
        "id": "JdToHUlB1B0U"
      },
      "execution_count": null,
      "outputs": []
    },
    {
      "cell_type": "code",
      "source": [
        "# Function to create padded sequences with error handling for unknown words\n",
        "def create_padded_sequences(data, max_length, word2idx, tag2idx):\n",
        "    padded_sentences = []\n",
        "    padded_tags = []\n",
        "\n",
        "    for sentence in data:\n",
        "        words = [word for word, tag in sentence]\n",
        "        tags = [tag for word, tag in sentence]\n",
        "\n",
        "        # Convert words to indices, using a default value for unknown words\n",
        "        seq = [word2idx.get(word, word2idx['<PAD>']) for word in words]\n",
        "        tag_seq = [tag2idx.get(tag, 0) for tag in tags]  # Assuming 0 is used for padding in tags\n",
        "\n",
        "        # Pad sequences\n",
        "        padded_seq = pad_sequences([seq], maxlen=max_length, padding='post')[0]\n",
        "        padded_tag_seq = pad_sequences([tag_seq], maxlen=max_length, padding='post')[0]\n",
        "\n",
        "        padded_sentences.append(padded_seq)\n",
        "        padded_tags.append(padded_tag_seq)\n",
        "\n",
        "    return np.array(padded_sentences), np.array(padded_tags)\n"
      ],
      "metadata": {
        "id": "FQWnaOVC1Ei7"
      },
      "execution_count": null,
      "outputs": []
    },
    {
      "cell_type": "code",
      "source": [
        "all_words = [word.lower() for sentence in train_data for word, tag in sentence]\n"
      ],
      "metadata": {
        "id": "O1NlPBHJ1MrD"
      },
      "execution_count": null,
      "outputs": []
    },
    {
      "cell_type": "code",
      "source": [
        "import numpy as np\n",
        "from collections import Counter\n",
        "from keras.preprocessing.sequence import pad_sequences\n",
        "\n",
        "# Function to create a mapping of words and tags to indices\n",
        "def create_word_tag_indices(train_data):\n",
        "    # Create a list of all words and tags\n",
        "    all_words = [word for sentence in train_data for word, tag in sentence]\n",
        "    all_tags = [tag for sentence in train_data for word, tag in sentence]\n",
        "\n",
        "    # Create frequency distributions\n",
        "    word_freq = Counter(all_words)\n",
        "    tag_freq = Counter(all_tags)\n",
        "\n",
        "    # Create mappings\n",
        "    word2idx = {word: idx + 1 for idx, (word, _) in enumerate(word_freq.most_common())}  # Start from 1 to leave 0 for padding\n",
        "    word2idx['<PAD>'] = 0  # Padding token\n",
        "\n",
        "    tag2idx = {tag: idx for idx, tag in enumerate(tag_freq.keys())}\n",
        "\n",
        "    return word2idx, tag2idx\n",
        "\n",
        "# Function to create padded sequences with error handling for unknown words\n",
        "def create_padded_sequences(data, max_length, word2idx, tag2idx):\n",
        "    padded_sentences = []\n",
        "    padded_tags = []\n",
        "\n",
        "    for sentence in data:\n",
        "        words = [word for word, tag in sentence]\n",
        "        tags = [tag for word, tag in sentence]\n",
        "\n",
        "        # Convert words to indices, using a default value for unknown words\n",
        "        seq = [word2idx.get(word, word2idx['<PAD>']) for word in words]\n",
        "        tag_seq = [tag2idx.get(tag, 0) for tag in tags]  # Assuming 0 is used for padding in tags\n",
        "\n",
        "        # Pad sequences\n",
        "        padded_seq = pad_sequences([seq], maxlen=max_length, padding='post')[0]\n",
        "        padded_tag_seq = pad_sequences([tag_seq], maxlen=max_length, padding='post')[0]\n",
        "\n",
        "        padded_sentences.append(padded_seq)\n",
        "        padded_tags.append(padded_tag_seq)\n",
        "\n",
        "    return np.array(padded_sentences), np.array(padded_tags)\n",
        "\n",
        "# Load data\n",
        "train_data = load_data('train.txt')  # Make sure this function is defined\n",
        "valid_data = load_data('valid.txt')\n",
        "\n",
        "# Create word and tag indices\n",
        "word2idx, tag2idx = create_word_tag_indices(train_data)\n",
        "\n",
        "# Define maximum length\n",
        "max_length = 113  # Adjust based on your data analysis\n",
        "\n",
        "# Create padded sequences for training and validation\n",
        "padded_sentences, padded_tags = create_padded_sequences(train_data, max_length, word2idx, tag2idx)\n",
        "padded_valid_sentences, padded_valid_tags = create_padded_sequences(valid_data, max_length, word2idx, tag2idx)\n",
        "\n",
        "# Prepare training and validation data\n",
        "X_train = np.array(padded_sentences)  # Your padded sentences\n",
        "y_train = np.array(padded_tags)        # Your padded tags\n",
        "X_val = np.array(padded_valid_sentences)  # Your validation padded sentences\n",
        "y_val = np.array(padded_valid_tags)        # Your validation padded tags\n",
        "\n",
        "# Check the shapes of the arrays\n",
        "print(\"X_train shape:\", X_train.shape)\n",
        "print(\"y_train shape:\", y_train.shape)\n",
        "print(\"X_val shape:\", X_val.shape)\n",
        "print(\"y_val shape:\", y_val.shape)\n"
      ],
      "metadata": {
        "colab": {
          "base_uri": "https://localhost:8080/"
        },
        "id": "DeweRlYd1AB7",
        "outputId": "10b8cb82-364f-4696-f9db-081670645175"
      },
      "execution_count": null,
      "outputs": [
        {
          "output_type": "stream",
          "name": "stdout",
          "text": [
            "X_train shape: (14041, 113)\n",
            "y_train shape: (14041, 113)\n",
            "X_val shape: (3250, 113)\n",
            "y_val shape: (3250, 113)\n"
          ]
        }
      ]
    },
    {
      "cell_type": "code",
      "source": [
        "history = model.fit(X_train, y_train, validation_data=(X_val, y_val), epochs=10, batch_size=32)  # Adjust epochs and batch size as needed"
      ],
      "metadata": {
        "colab": {
          "base_uri": "https://localhost:8080/"
        },
        "id": "XcoAdiQS0lgi",
        "outputId": "2230863d-4600-4c81-a4b2-34f6827c8d68"
      },
      "execution_count": null,
      "outputs": [
        {
          "output_type": "stream",
          "name": "stdout",
          "text": [
            "Epoch 1/10\n",
            "\u001b[1m439/439\u001b[0m \u001b[32m━━━━━━━━━━━━━━━━━━━━\u001b[0m\u001b[37m\u001b[0m \u001b[1m190s\u001b[0m 395ms/step - accuracy: 0.9543 - loss: 0.4777 - val_accuracy: 0.9753 - val_loss: 0.0935\n",
            "Epoch 2/10\n",
            "\u001b[1m439/439\u001b[0m \u001b[32m━━━━━━━━━━━━━━━━━━━━\u001b[0m\u001b[37m\u001b[0m \u001b[1m172s\u001b[0m 392ms/step - accuracy: 0.9783 - loss: 0.0820 - val_accuracy: 0.9782 - val_loss: 0.0802\n",
            "Epoch 3/10\n",
            "\u001b[1m439/439\u001b[0m \u001b[32m━━━━━━━━━━━━━━━━━━━━\u001b[0m\u001b[37m\u001b[0m \u001b[1m172s\u001b[0m 391ms/step - accuracy: 0.9815 - loss: 0.0673 - val_accuracy: 0.9801 - val_loss: 0.0707\n",
            "Epoch 4/10\n",
            "\u001b[1m439/439\u001b[0m \u001b[32m━━━━━━━━━━━━━━━━━━━━\u001b[0m\u001b[37m\u001b[0m \u001b[1m202s\u001b[0m 390ms/step - accuracy: 0.9830 - loss: 0.0590 - val_accuracy: 0.9813 - val_loss: 0.0648\n",
            "Epoch 5/10\n",
            "\u001b[1m439/439\u001b[0m \u001b[32m━━━━━━━━━━━━━━━━━━━━\u001b[0m\u001b[37m\u001b[0m \u001b[1m172s\u001b[0m 393ms/step - accuracy: 0.9846 - loss: 0.0528 - val_accuracy: 0.9826 - val_loss: 0.0598\n",
            "Epoch 6/10\n",
            "\u001b[1m439/439\u001b[0m \u001b[32m━━━━━━━━━━━━━━━━━━━━\u001b[0m\u001b[37m\u001b[0m \u001b[1m202s\u001b[0m 394ms/step - accuracy: 0.9859 - loss: 0.0474 - val_accuracy: 0.9834 - val_loss: 0.0559\n",
            "Epoch 7/10\n",
            "\u001b[1m439/439\u001b[0m \u001b[32m━━━━━━━━━━━━━━━━━━━━\u001b[0m\u001b[37m\u001b[0m \u001b[1m202s\u001b[0m 394ms/step - accuracy: 0.9873 - loss: 0.0431 - val_accuracy: 0.9849 - val_loss: 0.0527\n",
            "Epoch 8/10\n",
            "\u001b[1m439/439\u001b[0m \u001b[32m━━━━━━━━━━━━━━━━━━━━\u001b[0m\u001b[37m\u001b[0m \u001b[1m212s\u001b[0m 418ms/step - accuracy: 0.9881 - loss: 0.0401 - val_accuracy: 0.9854 - val_loss: 0.0505\n",
            "Epoch 9/10\n",
            "\u001b[1m439/439\u001b[0m \u001b[32m━━━━━━━━━━━━━━━━━━━━\u001b[0m\u001b[37m\u001b[0m \u001b[1m202s\u001b[0m 418ms/step - accuracy: 0.9889 - loss: 0.0372 - val_accuracy: 0.9859 - val_loss: 0.0487\n",
            "Epoch 10/10\n",
            "\u001b[1m439/439\u001b[0m \u001b[32m━━━━━━━━━━━━━━━━━━━━\u001b[0m\u001b[37m\u001b[0m \u001b[1m201s\u001b[0m 417ms/step - accuracy: 0.9895 - loss: 0.0352 - val_accuracy: 0.9864 - val_loss: 0.0465\n"
          ]
        }
      ]
    },
    {
      "cell_type": "code",
      "source": [
        "# Evaluate the model on validation data\n",
        "loss, accuracy = model.evaluate(X_val, y_val, verbose=1)\n",
        "print(f'Validation Loss: {loss:.4f}, Validation Accuracy: {accuracy:.4f}')"
      ],
      "metadata": {
        "colab": {
          "base_uri": "https://localhost:8080/"
        },
        "id": "Nxq1aUfd1lV0",
        "outputId": "2f2ed666-5bae-4e8f-e41a-26134a9983e9"
      },
      "execution_count": null,
      "outputs": [
        {
          "output_type": "stream",
          "name": "stdout",
          "text": [
            "\u001b[1m102/102\u001b[0m \u001b[32m━━━━━━━━━━━━━━━━━━━━\u001b[0m\u001b[37m\u001b[0m \u001b[1m11s\u001b[0m 104ms/step - accuracy: 0.9876 - loss: 0.0424\n",
            "Validation Loss: 0.0465, Validation Accuracy: 0.9864\n"
          ]
        }
      ]
    },
    {
      "cell_type": "code",
      "source": [
        "# Make predictions on validation set\n",
        "predictions = model.predict(X_val)\n",
        "\n",
        "# Convert predictions to tag indices\n",
        "predicted_tags = np.argmax(predictions, axis=-1)\n",
        "\n",
        "# Map predicted indices back to tags\n",
        "predicted_tag_labels = [[list(tag2idx.keys())[list(tag2idx.values()).index(tag)] for tag in pred] for pred in predicted_tags]\n",
        "\n",
        "# Print some sample predictions\n",
        "for i in range(5):  # Adjust the range as needed\n",
        "    print(f'Original: {valid_data[i]}')\n",
        "    print(f'Predicted: {predicted_tag_labels[i]}')\n"
      ],
      "metadata": {
        "colab": {
          "base_uri": "https://localhost:8080/"
        },
        "id": "n6U-JVpe9B-1",
        "outputId": "9affc3f3-e52d-401a-e5e1-0c1cc785093c"
      },
      "execution_count": null,
      "outputs": [
        {
          "output_type": "stream",
          "name": "stdout",
          "text": [
            "\u001b[1m102/102\u001b[0m \u001b[32m━━━━━━━━━━━━━━━━━━━━\u001b[0m\u001b[37m\u001b[0m \u001b[1m15s\u001b[0m 122ms/step\n",
            "Original: [('CRICKET', 'O'), ('-', 'O'), ('LEICESTERSHIRE', 'B-ORG'), ('TAKE', 'O'), ('OVER', 'O'), ('AT', 'O'), ('TOP', 'O'), ('AFTER', 'O'), ('INNINGS', 'O'), ('VICTORY', 'O'), ('.', 'O')]\n",
            "Predicted: ['O', 'O', 'B-PER', 'O', 'O', 'O', 'B-LOC', 'O', 'O', 'O', 'O', 'B-ORG', 'B-ORG', 'B-ORG', 'B-ORG', 'B-ORG', 'B-ORG', 'B-ORG', 'B-ORG', 'B-ORG', 'B-ORG', 'B-ORG', 'B-ORG', 'B-ORG', 'B-ORG', 'B-ORG', 'B-ORG', 'B-ORG', 'B-ORG', 'B-ORG', 'B-ORG', 'B-ORG', 'B-ORG', 'B-ORG', 'B-ORG', 'B-ORG', 'B-ORG', 'B-ORG', 'B-ORG', 'B-ORG', 'B-ORG', 'B-ORG', 'B-ORG', 'B-ORG', 'B-ORG', 'B-ORG', 'B-ORG', 'B-ORG', 'B-ORG', 'B-ORG', 'B-ORG', 'B-ORG', 'B-ORG', 'B-ORG', 'B-ORG', 'B-ORG', 'B-ORG', 'B-ORG', 'B-ORG', 'B-ORG', 'B-ORG', 'B-ORG', 'B-ORG', 'B-ORG', 'B-ORG', 'B-ORG', 'B-ORG', 'B-ORG', 'B-ORG', 'B-ORG', 'B-ORG', 'B-ORG', 'B-ORG', 'B-ORG', 'B-ORG', 'B-ORG', 'B-ORG', 'B-ORG', 'B-ORG', 'B-ORG', 'B-ORG', 'B-ORG', 'B-ORG', 'B-ORG', 'B-ORG', 'B-ORG', 'B-ORG', 'B-ORG', 'B-ORG', 'B-ORG', 'B-ORG', 'B-ORG', 'B-ORG', 'B-ORG', 'B-ORG', 'B-ORG', 'B-ORG', 'B-ORG', 'B-ORG', 'B-ORG', 'B-ORG', 'B-ORG', 'B-ORG', 'B-ORG', 'B-ORG', 'B-ORG', 'B-ORG', 'B-ORG', 'B-ORG', 'B-ORG', 'B-ORG', 'B-ORG', 'B-ORG']\n",
            "Original: [('LONDON', 'B-LOC'), ('1996-08-30', 'O')]\n",
            "Predicted: ['B-LOC', 'O', 'B-ORG', 'B-ORG', 'B-ORG', 'B-ORG', 'B-ORG', 'B-ORG', 'B-ORG', 'B-ORG', 'B-ORG', 'B-ORG', 'B-ORG', 'B-ORG', 'B-ORG', 'B-ORG', 'B-ORG', 'B-ORG', 'B-ORG', 'B-ORG', 'B-ORG', 'B-ORG', 'B-ORG', 'B-ORG', 'B-ORG', 'B-ORG', 'B-ORG', 'B-ORG', 'B-ORG', 'B-ORG', 'B-ORG', 'B-ORG', 'B-ORG', 'B-ORG', 'B-ORG', 'B-ORG', 'B-ORG', 'B-ORG', 'B-ORG', 'B-ORG', 'B-ORG', 'B-ORG', 'B-ORG', 'B-ORG', 'B-ORG', 'B-ORG', 'B-ORG', 'B-ORG', 'B-ORG', 'B-ORG', 'B-ORG', 'B-ORG', 'B-ORG', 'B-ORG', 'B-ORG', 'B-ORG', 'B-ORG', 'B-ORG', 'B-ORG', 'B-ORG', 'B-ORG', 'B-ORG', 'B-ORG', 'B-ORG', 'B-ORG', 'B-ORG', 'B-ORG', 'B-ORG', 'B-ORG', 'B-ORG', 'B-ORG', 'B-ORG', 'B-ORG', 'B-ORG', 'B-ORG', 'B-ORG', 'B-ORG', 'B-ORG', 'B-ORG', 'B-ORG', 'B-ORG', 'B-ORG', 'B-ORG', 'B-ORG', 'B-ORG', 'B-ORG', 'B-ORG', 'B-ORG', 'B-ORG', 'B-ORG', 'B-ORG', 'B-ORG', 'B-ORG', 'B-ORG', 'B-ORG', 'B-ORG', 'B-ORG', 'B-ORG', 'B-ORG', 'B-ORG', 'B-ORG', 'B-ORG', 'B-ORG', 'B-ORG', 'B-ORG', 'B-ORG', 'B-ORG', 'B-ORG', 'B-ORG', 'B-ORG', 'B-ORG', 'B-ORG', 'B-ORG']\n",
            "Original: [('West', 'B-MISC'), ('Indian', 'I-MISC'), ('all-rounder', 'O'), ('Phil', 'B-PER'), ('Simmons', 'I-PER'), ('took', 'O'), ('four', 'O'), ('for', 'O'), ('38', 'O'), ('on', 'O'), ('Friday', 'O'), ('as', 'O'), ('Leicestershire', 'B-ORG'), ('beat', 'O'), ('Somerset', 'B-ORG'), ('by', 'O'), ('an', 'O'), ('innings', 'O'), ('and', 'O'), ('39', 'O'), ('runs', 'O'), ('in', 'O'), ('two', 'O'), ('days', 'O'), ('to', 'O'), ('take', 'O'), ('over', 'O'), ('at', 'O'), ('the', 'O'), ('head', 'O'), ('of', 'O'), ('the', 'O'), ('county', 'O'), ('championship', 'O'), ('.', 'O')]\n",
            "Predicted: ['O', 'O', 'O', 'O', 'I-PER', 'O', 'O', 'O', 'O', 'O', 'O', 'O', 'O', 'O', 'O', 'O', 'O', 'O', 'O', 'O', 'O', 'O', 'O', 'O', 'O', 'O', 'O', 'O', 'O', 'O', 'O', 'O', 'O', 'O', 'O', 'B-ORG', 'B-ORG', 'B-ORG', 'B-ORG', 'B-ORG', 'B-ORG', 'B-ORG', 'B-ORG', 'B-ORG', 'B-ORG', 'B-ORG', 'B-ORG', 'B-ORG', 'B-ORG', 'B-ORG', 'B-ORG', 'B-ORG', 'B-ORG', 'B-ORG', 'B-ORG', 'B-ORG', 'B-ORG', 'B-ORG', 'B-ORG', 'B-ORG', 'B-ORG', 'B-ORG', 'B-ORG', 'B-ORG', 'B-ORG', 'B-ORG', 'B-ORG', 'B-ORG', 'B-ORG', 'B-ORG', 'B-ORG', 'B-ORG', 'B-ORG', 'B-ORG', 'B-ORG', 'B-ORG', 'B-ORG', 'B-ORG', 'B-ORG', 'B-ORG', 'B-ORG', 'B-ORG', 'B-ORG', 'B-ORG', 'B-ORG', 'B-ORG', 'B-ORG', 'B-ORG', 'B-ORG', 'B-ORG', 'B-ORG', 'B-ORG', 'B-ORG', 'B-ORG', 'B-ORG', 'B-ORG', 'B-ORG', 'B-ORG', 'B-ORG', 'B-ORG', 'B-ORG', 'B-ORG', 'B-ORG', 'B-ORG', 'B-ORG', 'B-ORG', 'B-ORG', 'B-ORG', 'B-ORG', 'B-ORG', 'B-ORG', 'B-ORG', 'B-ORG']\n",
            "Original: [('Their', 'O'), ('stay', 'O'), ('on', 'O'), ('top', 'O'), (',', 'O'), ('though', 'O'), (',', 'O'), ('may', 'O'), ('be', 'O'), ('short-lived', 'O'), ('as', 'O'), ('title', 'O'), ('rivals', 'O'), ('Essex', 'B-ORG'), (',', 'O'), ('Derbyshire', 'B-ORG'), ('and', 'O'), ('Surrey', 'B-ORG'), ('all', 'O'), ('closed', 'O'), ('in', 'O'), ('on', 'O'), ('victory', 'O'), ('while', 'O'), ('Kent', 'B-ORG'), ('made', 'O'), ('up', 'O'), ('for', 'O'), ('lost', 'O'), ('time', 'O'), ('in', 'O'), ('their', 'O'), ('rain-affected', 'O'), ('match', 'O'), ('against', 'O'), ('Nottinghamshire', 'B-ORG'), ('.', 'O')]\n",
            "Predicted: ['B-PER', 'O', 'O', 'O', 'O', 'O', 'O', 'O', 'O', 'O', 'O', 'O', 'O', 'O', 'O', 'O', 'O', 'O', 'O', 'O', 'O', 'O', 'O', 'O', 'O', 'O', 'O', 'O', 'O', 'O', 'O', 'O', 'O', 'O', 'O', 'O', 'O', 'B-ORG', 'B-ORG', 'B-ORG', 'B-ORG', 'B-ORG', 'B-ORG', 'B-ORG', 'B-ORG', 'B-ORG', 'B-ORG', 'B-ORG', 'B-ORG', 'B-ORG', 'B-ORG', 'B-ORG', 'B-ORG', 'B-ORG', 'B-ORG', 'B-ORG', 'B-ORG', 'B-ORG', 'B-ORG', 'B-ORG', 'B-ORG', 'B-ORG', 'B-ORG', 'B-ORG', 'B-ORG', 'B-ORG', 'B-ORG', 'B-ORG', 'B-ORG', 'B-ORG', 'B-ORG', 'B-ORG', 'B-ORG', 'B-ORG', 'B-ORG', 'B-ORG', 'B-ORG', 'B-ORG', 'B-ORG', 'B-ORG', 'B-ORG', 'B-ORG', 'B-ORG', 'B-ORG', 'B-ORG', 'B-ORG', 'B-ORG', 'B-ORG', 'B-ORG', 'B-ORG', 'B-ORG', 'B-ORG', 'B-ORG', 'B-ORG', 'B-ORG', 'B-ORG', 'B-ORG', 'B-ORG', 'B-ORG', 'B-ORG', 'B-ORG', 'B-ORG', 'B-ORG', 'B-ORG', 'B-ORG', 'B-ORG', 'B-ORG', 'B-ORG', 'B-ORG', 'B-ORG', 'B-ORG', 'B-ORG', 'B-ORG']\n",
            "Original: [('After', 'O'), ('bowling', 'O'), ('Somerset', 'B-ORG'), ('out', 'O'), ('for', 'O'), ('83', 'O'), ('on', 'O'), ('the', 'O'), ('opening', 'O'), ('morning', 'O'), ('at', 'O'), ('Grace', 'B-LOC'), ('Road', 'I-LOC'), (',', 'O'), ('Leicestershire', 'B-ORG'), ('extended', 'O'), ('their', 'O'), ('first', 'O'), ('innings', 'O'), ('by', 'O'), ('94', 'O'), ('runs', 'O'), ('before', 'O'), ('being', 'O'), ('bowled', 'O'), ('out', 'O'), ('for', 'O'), ('296', 'O'), ('with', 'O'), ('England', 'B-LOC'), ('discard', 'O'), ('Andy', 'B-PER'), ('Caddick', 'I-PER'), ('taking', 'O'), ('three', 'O'), ('for', 'O'), ('83', 'O'), ('.', 'O')]\n",
            "Predicted: ['O', 'O', 'O', 'O', 'O', 'O', 'O', 'O', 'O', 'O', 'O', 'O', 'O', 'O', 'O', 'O', 'O', 'O', 'O', 'O', 'O', 'O', 'O', 'O', 'O', 'O', 'O', 'O', 'O', 'B-LOC', 'O', 'O', 'I-PER', 'O', 'O', 'O', 'O', 'O', 'B-ORG', 'B-ORG', 'B-ORG', 'B-ORG', 'B-ORG', 'B-ORG', 'B-ORG', 'B-ORG', 'B-ORG', 'B-ORG', 'B-ORG', 'B-ORG', 'B-ORG', 'B-ORG', 'B-ORG', 'B-ORG', 'B-ORG', 'B-ORG', 'B-ORG', 'B-ORG', 'B-ORG', 'B-ORG', 'B-ORG', 'B-ORG', 'B-ORG', 'B-ORG', 'B-ORG', 'B-ORG', 'B-ORG', 'B-ORG', 'B-ORG', 'B-ORG', 'B-ORG', 'B-ORG', 'B-ORG', 'B-ORG', 'B-ORG', 'B-ORG', 'B-ORG', 'B-ORG', 'B-ORG', 'B-ORG', 'B-ORG', 'B-ORG', 'B-ORG', 'B-ORG', 'B-ORG', 'B-ORG', 'B-ORG', 'B-ORG', 'B-ORG', 'B-ORG', 'B-ORG', 'B-ORG', 'B-ORG', 'B-ORG', 'B-ORG', 'B-ORG', 'B-ORG', 'B-ORG', 'B-ORG', 'B-ORG', 'B-ORG', 'B-ORG', 'B-ORG', 'B-ORG', 'B-ORG', 'B-ORG', 'B-ORG', 'B-ORG', 'B-ORG', 'B-ORG', 'B-ORG', 'B-ORG', 'B-ORG']\n"
          ]
        }
      ]
    },
    {
      "cell_type": "code",
      "source": [
        "from sklearn.metrics import confusion_matrix, classification_report\n",
        "import seaborn as sns\n",
        "import matplotlib.pyplot as plt\n",
        "\n",
        "# Flatten the lists for the confusion matrix\n",
        "y_true = np.array([tag for sublist in y_val for tag in sublist])\n",
        "y_pred = np.array([tag for sublist in predicted_tags for tag in sublist])\n",
        "\n",
        "# Get unique tags from y_true and y_pred\n",
        "unique_y_true = set(y_true)\n",
        "unique_y_pred = set(y_pred)\n",
        "\n",
        "# Print unique tags\n",
        "print(\"Unique tags in y_true:\", unique_y_true)\n",
        "print(\"Unique tags in y_pred:\", unique_y_pred)\n",
        "\n",
        "# Assuming tag2idx is a mapping of labels to indices\n",
        "# filtered_labels should be the same as the unique tags in y_true and y_pred\n",
        "filtered_labels = list(set(range(len(tag2idx))) & unique_y_true & unique_y_pred)\n",
        "\n",
        "# Debugging print\n",
        "print(\"Filtered labels for confusion matrix:\", filtered_labels)\n",
        "\n",
        "# Check if filtered_labels is empty\n",
        "if not filtered_labels:\n",
        "    print(\"No valid labels for confusion matrix.\")\n",
        "else:\n",
        "    # Compute confusion matrix\n",
        "    cm = confusion_matrix(y_true, y_pred, labels=filtered_labels)\n",
        "\n",
        "    # Visualize confusion matrix\n",
        "    plt.figure(figsize=(10, 7))\n",
        "    sns.heatmap(cm, annot=True, fmt='d', cmap='Blues', xticklabels=filtered_labels, yticklabels=filtered_labels)\n",
        "    plt.ylabel('Actual')\n",
        "    plt.xlabel('Predicted')\n",
        "    plt.title('Confusion Matrix')\n",
        "    plt.show()\n",
        "\n",
        "    # Classification report\n",
        "    print(classification_report(y_true, y_pred, target_names=[str(label) for label in filtered_labels]))\n"
      ],
      "metadata": {
        "colab": {
          "base_uri": "https://localhost:8080/",
          "height": 971
        },
        "id": "iRLa8gjD9KfV",
        "outputId": "f8e52dc9-39ea-4889-d4dd-ef33542b7ca4"
      },
      "execution_count": null,
      "outputs": [
        {
          "output_type": "stream",
          "name": "stdout",
          "text": [
            "Unique tags in y_true: {0, 1, 2, 3, 4, 5, 6, 7, 8}\n",
            "Unique tags in y_pred: {0, 1, 2, 3, 4, 5, 6, 7, 8}\n",
            "Filtered labels for confusion matrix: [0, 1, 2, 3, 4, 5, 6, 7, 8]\n"
          ]
        },
        {
          "output_type": "display_data",
          "data": {
            "text/plain": [
              "<Figure size 1000x700 with 2 Axes>"
            ],
            "image/png": "[encoded data removed]"
          },
          "metadata": {}
        },
        {
          "output_type": "stream",
          "name": "stdout",
          "text": [
            "              precision    recall  f1-score   support\n",
            "\n",
            "           0       1.00      1.00      1.00    317229\n",
            "           1       0.92      0.98      0.95     42759\n",
            "           2       0.86      0.44      0.59       922\n",
            "           3       0.77      0.60      0.67      1842\n",
            "           4       0.77      0.70      0.73      1307\n",
            "           5       0.90      0.50      0.64      1837\n",
            "           6       0.80      0.40      0.53       751\n",
            "           7       0.87      0.28      0.42       346\n",
            "           8       0.89      0.40      0.56       257\n",
            "\n",
            "    accuracy                           0.99    367250\n",
            "   macro avg       0.86      0.59      0.68    367250\n",
            "weighted avg       0.99      0.99      0.99    367250\n",
            "\n"
          ]
        }
      ]
    },
    {
      "cell_type": "code",
      "source": [
        "# Save the model\n",
        "model.save('ner_model.h5')\n",
        "\n",
        "# To load the model later\n",
        "from keras.models import load_model\n",
        "loaded_model = load_model('ner_model.h5')\n"
      ],
      "metadata": {
        "colab": {
          "base_uri": "https://localhost:8080/"
        },
        "id": "1yhIKzEs9Tex",
        "outputId": "a1fd16b4-8f63-4a88-c010-05475f35ae5d"
      },
      "execution_count": null,
      "outputs": [
        {
          "output_type": "stream",
          "name": "stderr",
          "text": [
            "WARNING:absl:You are saving your model as an HDF5 file via `model.save()` or `keras.saving.save_model(model)`. This file format is considered legacy. We recommend using instead the native Keras format, e.g. `model.save('my_model.keras')` or `keras.saving.save_model(model, 'my_model.keras')`. \n",
            "WARNING:absl:Compiled the loaded model, but the compiled metrics have yet to be built. `model.compile_metrics` will be empty until you train or evaluate the model.\n"
          ]
        }
      ]
    }
  ]
}